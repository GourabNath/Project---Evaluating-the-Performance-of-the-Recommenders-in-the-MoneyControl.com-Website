{
 "cells": [
  {
   "cell_type": "markdown",
   "metadata": {
    "collapsed": true
   },
   "source": [
    "## Web Scrapping Exercises"
   ]
  },
  {
   "cell_type": "markdown",
   "metadata": {
    "collapsed": true
   },
   "source": [
    "**Problem 3**\n",
    "\n",
    "Extract the feedback of Samsung Galaxy On6 phone from this page.\n",
    "https://www.flipkart.com/samsung-galaxy-on6-blue-64-gb/product-reviews/itmf6m35ffwuqwdn?pid=MOBF6FZ4R9QNKKY9"
   ]
  },
  {
   "cell_type": "code",
   "execution_count": 1,
   "metadata": {
    "collapsed": true
   },
   "outputs": [],
   "source": [
    "#required libraries for web scrap\n",
    "from urllib.request import urlopen  #to get access of webpage\n",
    "from bs4 import BeautifulSoup       #to get html content\n",
    "import pandas as pd"
   ]
  },
  {
   "cell_type": "code",
   "execution_count": 2,
   "metadata": {
    "collapsed": true
   },
   "outputs": [],
   "source": [
    "html = urlopen('https://www.flipkart.com/samsung-galaxy-on6-blue-64-gb/product-reviews/itmf6m35ffwuqwdn?pid=MOBF6FZ4R9QNKKY9')\n",
    "soup = BeautifulSoup(html, 'html.parser')"
   ]
  },
  {
   "cell_type": "code",
   "execution_count": 7,
   "metadata": {
    "collapsed": false
   },
   "outputs": [],
   "source": [
    "main_block = soup.find_all('div', {'class':'_3DCdKt _5PYJrC'})"
   ]
  },
  {
   "cell_type": "code",
   "execution_count": 11,
   "metadata": {
    "collapsed": false
   },
   "outputs": [
    {
     "name": "stdout",
     "output_type": "stream",
     "text": [
      "5\n",
      "Best in the market!\n",
      "very good phone. camera clarity excellent\n",
      "\n",
      "\n",
      "5\n",
      "Wonderful\n",
      "awesome mobile this price.. fully paisa wasool....\n",
      "\n",
      "\n",
      "5\n",
      "Super!\n",
      "awesome phone in this price\n",
      "\n",
      "\n",
      "5\n",
      "Best in the market!\n",
      "superbbbbb smart phone 😍😍👌👌\n",
      "\n",
      "\n",
      "4\n",
      "Good quality product\n",
      "Very nice phone ....looks are awesome\n",
      "\n",
      "\n",
      "4\n",
      "Good quality product\n",
      "Nice phone & good looking\n",
      "\n",
      "\n",
      "5\n",
      "Highly recommended\n",
      "superrrrrrrr......service is 2 good.......thank u ......\n",
      "\n",
      "\n",
      "5\n",
      "Great product\n",
      "Fantastic phone and excellent delivery from ekart.\n",
      "\n",
      "\n",
      "5\n",
      "Classy product\n",
      "samsung is samsung good phone good feature\n",
      "\n",
      "\n"
     ]
    }
   ],
   "source": [
    "for i in main_block:\n",
    "    try:\n",
    "        print(i.find('div', {'class':'hGSR34 _2beYZw E_uFuv'}).get_text()[0])\n",
    "        print(i.find('p', {'class':'_2xg6Ul'}).get_text())\n",
    "        print(i.find('div', {'class':'qwjRop'}).get_text().rstrip('READ MORE'))\n",
    "        print('\\n')\n",
    "    except:\n",
    "        pass"
   ]
  },
  {
   "cell_type": "markdown",
   "metadata": {
    "collapsed": true
   },
   "source": [
    "_______________________________________________________________________________________________________________________________\n",
    "etc...And this can be extended for scrapping from multiple pages."
   ]
  }
 ],
 "metadata": {
  "kernelspec": {
   "display_name": "Python 3",
   "language": "python",
   "name": "python3"
  },
  "language_info": {
   "codemirror_mode": {
    "name": "ipython",
    "version": 3
   },
   "file_extension": ".py",
   "mimetype": "text/x-python",
   "name": "python",
   "nbconvert_exporter": "python",
   "pygments_lexer": "ipython3",
   "version": "3.6.0"
  }
 },
 "nbformat": 4,
 "nbformat_minor": 2
}
