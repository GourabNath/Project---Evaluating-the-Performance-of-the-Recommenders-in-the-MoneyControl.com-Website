{
 "cells": [
  {
   "cell_type": "markdown",
   "metadata": {},
   "source": [
    "## Web Scrapping Exercises"
   ]
  },
  {
   "cell_type": "markdown",
   "metadata": {
    "collapsed": true
   },
   "source": [
    "### Problem 1"
   ]
  },
  {
   "cell_type": "markdown",
   "metadata": {},
   "source": [
    "From the following Wikipedia page extract the hyperlinked words and the hyperlinks and arrange them in a table.\n",
    "https://en.wikipedia.org/wiki/Johann_Sebastian_Bach"
   ]
  },
  {
   "cell_type": "markdown",
   "metadata": {},
   "source": [
    "### Libraries"
   ]
  },
  {
   "cell_type": "code",
   "execution_count": 1,
   "metadata": {
    "collapsed": true
   },
   "outputs": [],
   "source": [
    "#required libraries for web scrap\n",
    "from urllib.request import urlopen  #to get access of webpage\n",
    "from bs4 import BeautifulSoup       #to get html content"
   ]
  },
  {
   "cell_type": "code",
   "execution_count": 2,
   "metadata": {
    "collapsed": true
   },
   "outputs": [],
   "source": [
    "bach_html = urlopen('https://en.wikipedia.org/wiki/Johann_Sebastian_Bach')  #This helps us to get the complete HTML code for the webpage\n",
    "bach_soup = BeautifulSoup(bach_html, 'html.parser')                         #Help to put the codes in proper XML structure (More in the notes)"
   ]
  },
  {
   "cell_type": "code",
   "execution_count": 4,
   "metadata": {
    "collapsed": false
   },
   "outputs": [],
   "source": [
    "print(bach_soup.prettify())   #To print the HTML codes for the page in a more organized way"
   ]
  },
  {
   "cell_type": "markdown",
   "metadata": {},
   "source": [
    "### A Basic Attempt"
   ]
  },
  {
   "cell_type": "code",
   "execution_count": 25,
   "metadata": {
    "collapsed": false
   },
   "outputs": [
    {
     "name": "stdout",
     "output_type": "stream",
     "text": [
      "This article is semi-protected. - /wiki/Wikipedia:Protection_policy#semi\n",
      "Johann Sebastian Bach (painter) - /wiki/Johann_Sebastian_Bach_(painter)\n",
      "Bach (disambiguation) - /wiki/Bach_(disambiguation)\n",
      "Elias Gottlob Haussmann - /wiki/Elias_Gottlob_Haussmann\n",
      "Old Style and New Style dates - /wiki/Old_Style_and_New_Style_dates\n",
      "Old Style and New Style dates - /wiki/Old_Style_and_New_Style_dates\n",
      "Eisenach - /wiki/Eisenach\n",
      "Leipzig - /wiki/Leipzig\n",
      "List of compositions by Johann Sebastian Bach - /wiki/List_of_compositions_by_Johann_Sebastian_Bach\n",
      "Old Style and New Style dates - /wiki/Old_Style_and_New_Style_dates\n",
      "Baroque music - /wiki/Baroque_music\n",
      "Brandenburg Concertos - /wiki/Brandenburg_Concertos\n",
      "Goldberg Variations - /wiki/Goldberg_Variations\n"
     ]
    }
   ],
   "source": [
    "#Note: The tag <a> in HTML defines hyperlinks\n",
    "#From the BS object we will find all the lines with the tag 'a'\n",
    "\n",
    "hlink = bach_soup.find_all('a')\n",
    "\n",
    "#Using count to break the look in between \n",
    "#(Not required. Used for the purpose of demo)\n",
    "count = 0\n",
    "for obj in hlink:\n",
    "    count += 1\n",
    "    if count == 20:\n",
    "        break                                                #1\n",
    "    try:                                                     #2\n",
    "        if obj.get('title') is not None:                     #3                      \n",
    "            print(obj.get('title'), '-', obj.get('href'))    #4\n",
    "    except:                                                  #5\n",
    "        pass\n",
    "    \n",
    "\n",
    "#Comments:\n",
    "\n",
    "#1. The break was used to test the code. We are breaking once 20 iterations are done. This will be removed in the final code. \n",
    "#2. Try to get the title. The title may not be found for some line and this code may throw Attribute error.\n",
    "#3. If the title is found (titles are the hyperlinked words in here) and are not none\n",
    "#4. Print the title and its hyperlinks separated by hyphen\n",
    "#5. if title not found and error result just pass the iteration.\n"
   ]
  },
  {
   "cell_type": "markdown",
   "metadata": {},
   "source": [
    "### An Improvement"
   ]
  },
  {
   "cell_type": "code",
   "execution_count": 15,
   "metadata": {
    "collapsed": false
   },
   "outputs": [
    {
     "name": "stdout",
     "output_type": "stream",
     "text": [
      "This article is semi-protected. - https://en.wikipedia.org/wiki/Wikipedia:Protection_policy#semi\n",
      "Johann Sebastian Bach (painter) - https://en.wikipedia.org/wiki/Johann_Sebastian_Bach_(painter)\n",
      "Bach (disambiguation) - https://en.wikipedia.org/wiki/Bach_(disambiguation)\n",
      "Elias Gottlob Haussmann - https://en.wikipedia.org/wiki/Elias_Gottlob_Haussmann\n",
      "Old Style and New Style dates - https://en.wikipedia.org/wiki/Old_Style_and_New_Style_dates\n",
      "Old Style and New Style dates - https://en.wikipedia.org/wiki/Old_Style_and_New_Style_dates\n",
      "Eisenach - https://en.wikipedia.org/wiki/Eisenach\n",
      "Leipzig - https://en.wikipedia.org/wiki/Leipzig\n",
      "List of compositions by Johann Sebastian Bach - https://en.wikipedia.org/wiki/List_of_compositions_by_Johann_Sebastian_Bach\n",
      "Old Style and New Style dates - https://en.wikipedia.org/wiki/Old_Style_and_New_Style_dates\n",
      "Baroque music - https://en.wikipedia.org/wiki/Baroque_music\n",
      "Brandenburg Concertos - https://en.wikipedia.org/wiki/Brandenburg_Concertos\n",
      "Goldberg Variations - https://en.wikipedia.org/wiki/Goldberg_Variations\n"
     ]
    }
   ],
   "source": [
    "#This is a repeat of the previous code with some improvements\n",
    "#Note the links we have obtained are incomplete hyperlinks (this wont help us)\n",
    "#All these links are wikipedia linka and starts with 'https://en.wikipedia.org'\n",
    "#So for each links let's concatinate this string to the left of the links.\n",
    "\n",
    "hlink = bach_soup.find_all('a')\n",
    "\n",
    "count = 0\n",
    "for obj in hlink:\n",
    "    count += 1\n",
    "    if count == 20:\n",
    "        break\n",
    "    try:\n",
    "        if obj.get('title') is not None:\n",
    "            print(obj.get('title'), '-', 'https://en.wikipedia.org'+obj.get('href'))\n",
    "    except:\n",
    "        pass\n",
    "    \n",
    "#Now we should get the complete hyperlinks..."
   ]
  },
  {
   "cell_type": "markdown",
   "metadata": {},
   "source": [
    "### Improvement over the Basic Attempt (Getting a Data Frame Instead)"
   ]
  },
  {
   "cell_type": "code",
   "execution_count": 35,
   "metadata": {
    "collapsed": false
   },
   "outputs": [],
   "source": [
    "#ARRANGING IN DATA FRAME\n",
    "\n",
    "hlink = bach_soup.find_all('a')\n",
    "\n",
    "#Creating two empty lists to store the hyperlinked words (titles) and the hyperlinks (href)\n",
    "title = []                      \n",
    "links = []\n",
    "\n",
    "count = 0\n",
    "for obj in hlink:\n",
    "    count += 1\n",
    "    if count == 20:\n",
    "        break\n",
    "    try:\n",
    "        if obj.get('title') is not None:\n",
    "            title.append(obj.get('title'))                             #Appending the title in the title list\n",
    "            links.append('https://en.wikipedia.org'+obj.get('href'))   #Appending the hyperlinks in the links list\n",
    "    except:\n",
    "        pass"
   ]
  },
  {
   "cell_type": "code",
   "execution_count": 36,
   "metadata": {
    "collapsed": false
   },
   "outputs": [],
   "source": [
    "#This step is for creating the data frame in the next step\n",
    "#Create a dictionary with the keys as the variable names and the values as the created lists\n",
    "dic = {'Title':title, 'Link':links}               \n"
   ]
  },
  {
   "cell_type": "code",
   "execution_count": 40,
   "metadata": {
    "collapsed": false
   },
   "outputs": [
    {
     "data": {
      "text/html": [
       "<div>\n",
       "<table border=\"1\" class=\"dataframe\">\n",
       "  <thead>\n",
       "    <tr style=\"text-align: right;\">\n",
       "      <th></th>\n",
       "      <th>Title</th>\n",
       "      <th>Link</th>\n",
       "    </tr>\n",
       "  </thead>\n",
       "  <tbody>\n",
       "    <tr>\n",
       "      <th>0</th>\n",
       "      <td>This article is semi-protected.</td>\n",
       "      <td>https://en.wikipedia.org/wiki/Wikipedia:Protec...</td>\n",
       "    </tr>\n",
       "    <tr>\n",
       "      <th>1</th>\n",
       "      <td>Johann Sebastian Bach (painter)</td>\n",
       "      <td>https://en.wikipedia.org/wiki/Johann_Sebastian...</td>\n",
       "    </tr>\n",
       "    <tr>\n",
       "      <th>2</th>\n",
       "      <td>Bach (disambiguation)</td>\n",
       "      <td>https://en.wikipedia.org/wiki/Bach_(disambigua...</td>\n",
       "    </tr>\n",
       "    <tr>\n",
       "      <th>3</th>\n",
       "      <td>Elias Gottlob Haussmann</td>\n",
       "      <td>https://en.wikipedia.org/wiki/Elias_Gottlob_Ha...</td>\n",
       "    </tr>\n",
       "    <tr>\n",
       "      <th>4</th>\n",
       "      <td>Old Style and New Style dates</td>\n",
       "      <td>https://en.wikipedia.org/wiki/Old_Style_and_Ne...</td>\n",
       "    </tr>\n",
       "    <tr>\n",
       "      <th>5</th>\n",
       "      <td>Old Style and New Style dates</td>\n",
       "      <td>https://en.wikipedia.org/wiki/Old_Style_and_Ne...</td>\n",
       "    </tr>\n",
       "    <tr>\n",
       "      <th>6</th>\n",
       "      <td>Eisenach</td>\n",
       "      <td>https://en.wikipedia.org/wiki/Eisenach</td>\n",
       "    </tr>\n",
       "    <tr>\n",
       "      <th>7</th>\n",
       "      <td>Leipzig</td>\n",
       "      <td>https://en.wikipedia.org/wiki/Leipzig</td>\n",
       "    </tr>\n",
       "    <tr>\n",
       "      <th>8</th>\n",
       "      <td>List of compositions by Johann Sebastian Bach</td>\n",
       "      <td>https://en.wikipedia.org/wiki/List_of_composit...</td>\n",
       "    </tr>\n",
       "    <tr>\n",
       "      <th>9</th>\n",
       "      <td>Old Style and New Style dates</td>\n",
       "      <td>https://en.wikipedia.org/wiki/Old_Style_and_Ne...</td>\n",
       "    </tr>\n",
       "    <tr>\n",
       "      <th>10</th>\n",
       "      <td>Baroque music</td>\n",
       "      <td>https://en.wikipedia.org/wiki/Baroque_music</td>\n",
       "    </tr>\n",
       "    <tr>\n",
       "      <th>11</th>\n",
       "      <td>Brandenburg Concertos</td>\n",
       "      <td>https://en.wikipedia.org/wiki/Brandenburg_Conc...</td>\n",
       "    </tr>\n",
       "    <tr>\n",
       "      <th>12</th>\n",
       "      <td>Goldberg Variations</td>\n",
       "      <td>https://en.wikipedia.org/wiki/Goldberg_Variations</td>\n",
       "    </tr>\n",
       "  </tbody>\n",
       "</table>\n",
       "</div>"
      ],
      "text/plain": [
       "                                            Title  \\\n",
       "0                 This article is semi-protected.   \n",
       "1                 Johann Sebastian Bach (painter)   \n",
       "2                           Bach (disambiguation)   \n",
       "3                         Elias Gottlob Haussmann   \n",
       "4                   Old Style and New Style dates   \n",
       "5                   Old Style and New Style dates   \n",
       "6                                        Eisenach   \n",
       "7                                         Leipzig   \n",
       "8   List of compositions by Johann Sebastian Bach   \n",
       "9                   Old Style and New Style dates   \n",
       "10                                  Baroque music   \n",
       "11                          Brandenburg Concertos   \n",
       "12                            Goldberg Variations   \n",
       "\n",
       "                                                 Link  \n",
       "0   https://en.wikipedia.org/wiki/Wikipedia:Protec...  \n",
       "1   https://en.wikipedia.org/wiki/Johann_Sebastian...  \n",
       "2   https://en.wikipedia.org/wiki/Bach_(disambigua...  \n",
       "3   https://en.wikipedia.org/wiki/Elias_Gottlob_Ha...  \n",
       "4   https://en.wikipedia.org/wiki/Old_Style_and_Ne...  \n",
       "5   https://en.wikipedia.org/wiki/Old_Style_and_Ne...  \n",
       "6              https://en.wikipedia.org/wiki/Eisenach  \n",
       "7               https://en.wikipedia.org/wiki/Leipzig  \n",
       "8   https://en.wikipedia.org/wiki/List_of_composit...  \n",
       "9   https://en.wikipedia.org/wiki/Old_Style_and_Ne...  \n",
       "10        https://en.wikipedia.org/wiki/Baroque_music  \n",
       "11  https://en.wikipedia.org/wiki/Brandenburg_Conc...  \n",
       "12  https://en.wikipedia.org/wiki/Goldberg_Variations  "
      ]
     },
     "execution_count": 40,
     "metadata": {},
     "output_type": "execute_result"
    }
   ],
   "source": [
    "#Creating the Pandas data frame using the dictionary\n",
    "import pandas as pd\n",
    "bach_wiki_links = pd.DataFrame(dic)\n",
    "\n",
    "#Re-arranging\n",
    "bach_wiki_links = bach_wiki_links[['Title','Link']]\n",
    "bach_wiki_links"
   ]
  },
  {
   "cell_type": "markdown",
   "metadata": {},
   "source": [
    "### The Final Code\n",
    "\n",
    "Create a function that will take a wikipedia link and give you the hyper-linked words and the hyperlink in the form of a csv file in a specified directory (or in the working directory by default)"
   ]
  },
  {
   "cell_type": "code",
   "execution_count": 85,
   "metadata": {
    "collapsed": false
   },
   "outputs": [],
   "source": [
    "#Required Libraries\n",
    "\n",
    "#required libraries for web scrap\n",
    "from urllib.request import urlopen  #to get access of webpage\n",
    "from bs4 import BeautifulSoup       #to get html content\n",
    "\n",
    "#Pandas for data frame\n",
    "import pandas as pd\n",
    "\n",
    "#For directory link\n",
    "import os\n",
    "\n",
    "cwd = os.getcwd()\n",
    "\n",
    "#Function\n",
    "def get_wiki_hyperlinks(link, directory=cwd):\n",
    "    \n",
    "    if link.startswith('https://en.wikipedia.org'):\n",
    "        html = urlopen(link)  #This helps us to get the complete HTML code for the webpage\n",
    "        soup = BeautifulSoup(html, 'html.parser')                         #Help to put the codes in proper XML structure (More in the notes)\n",
    "\n",
    "        #Find all lines tagged 'a'. <a> defines hyperlink in HTML\n",
    "        hlink = soup.find_all('a')\n",
    "\n",
    "        #Creating two empty lists to store the hyperlinked words (titles) and the hyperlinks (href)\n",
    "        title = []                      \n",
    "        links = []\n",
    "\n",
    "        for obj in hlink:\n",
    "            try:\n",
    "                if obj.get('title') is not None:\n",
    "                    title.append(obj.get('title'))                             #Appending the title in the title list\n",
    "                    links.append('https://en.wikipedia.org'+obj.get('href'))   #Appending the hyperlinks in the links list\n",
    "            except:\n",
    "                pass\n",
    "\n",
    "        dic = {'Title':title, 'Link':links}  \n",
    "        wiki_links = pd.DataFrame(dic)\n",
    "\n",
    "        #Re-arranging\n",
    "        wiki_links = wiki_links[['Title','Link']]\n",
    "\n",
    "        #Getting the title of the article. We will use it as the file name\n",
    "        filename = soup.title.string\n",
    "        print('The file name of the exported csv file is '+filename+'.csv')\n",
    "\n",
    "        #Change the directory\n",
    "        os.chdir(directory)\n",
    "        \n",
    "        #Exporting the data frame as csv file\n",
    "        wiki_links.to_csv(filename+'.csv')\n",
    "        \n",
    "        #re-set directory\n",
    "        os.chdir(cwd)\n",
    "        \n",
    "        return(wiki_links)\n",
    "    \n",
    "    else:\n",
    "        print('This is not a Wikipedia link')"
   ]
  },
  {
   "cell_type": "markdown",
   "metadata": {},
   "source": [
    "#### Testing"
   ]
  },
  {
   "cell_type": "code",
   "execution_count": 67,
   "metadata": {
    "collapsed": false
   },
   "outputs": [
    {
     "name": "stdout",
     "output_type": "stream",
     "text": [
      "This is not a Wikipedia link\n"
     ]
    }
   ],
   "source": [
    "#TESTING 1\n",
    "ML = get_wiki_hyperlinks('https://en.wikipedia.org/wiki/Machine_learning')"
   ]
  },
  {
   "cell_type": "code",
   "execution_count": 66,
   "metadata": {
    "collapsed": false
   },
   "outputs": [
    {
     "data": {
      "text/html": [
       "<div>\n",
       "<table border=\"1\" class=\"dataframe\">\n",
       "  <thead>\n",
       "    <tr style=\"text-align: right;\">\n",
       "      <th></th>\n",
       "      <th>Title</th>\n",
       "      <th>Link</th>\n",
       "    </tr>\n",
       "  </thead>\n",
       "  <tbody>\n",
       "    <tr>\n",
       "      <th>1</th>\n",
       "      <td>Statistical learning in language acquisition</td>\n",
       "      <td>https://en.wikipedia.org/wiki/Statistical_lear...</td>\n",
       "    </tr>\n",
       "    <tr>\n",
       "      <th>2</th>\n",
       "      <td>Data mining</td>\n",
       "      <td>https://en.wikipedia.org/wiki/Data_mining</td>\n",
       "    </tr>\n",
       "    <tr>\n",
       "      <th>3</th>\n",
       "      <td>Statistical classification</td>\n",
       "      <td>https://en.wikipedia.org/wiki/Statistical_clas...</td>\n",
       "    </tr>\n",
       "    <tr>\n",
       "      <th>4</th>\n",
       "      <td>Cluster analysis</td>\n",
       "      <td>https://en.wikipedia.org/wiki/Cluster_analysis</td>\n",
       "    </tr>\n",
       "  </tbody>\n",
       "</table>\n",
       "</div>"
      ],
      "text/plain": [
       "                                          Title  \\\n",
       "1  Statistical learning in language acquisition   \n",
       "2                                   Data mining   \n",
       "3                    Statistical classification   \n",
       "4                              Cluster analysis   \n",
       "\n",
       "                                                Link  \n",
       "1  https://en.wikipedia.org/wiki/Statistical_lear...  \n",
       "2          https://en.wikipedia.org/wiki/Data_mining  \n",
       "3  https://en.wikipedia.org/wiki/Statistical_clas...  \n",
       "4     https://en.wikipedia.org/wiki/Cluster_analysis  "
      ]
     },
     "execution_count": 66,
     "metadata": {},
     "output_type": "execute_result"
    }
   ],
   "source": [
    "ML.iloc[1:5,]"
   ]
  },
  {
   "cell_type": "code",
   "execution_count": 68,
   "metadata": {
    "collapsed": false
   },
   "outputs": [
    {
     "name": "stdout",
     "output_type": "stream",
     "text": [
      "This is not a Wikipedia link\n"
     ]
    }
   ],
   "source": [
    "#TESTING 2\n",
    "bla = get_wiki_hyperlinks('https://www.crummy.com/software/BeautifulSoup/bs4/doc/')"
   ]
  },
  {
   "cell_type": "code",
   "execution_count": 87,
   "metadata": {
    "collapsed": false
   },
   "outputs": [
    {
     "name": "stdout",
     "output_type": "stream",
     "text": [
      "The file name of the exported csv file is Johann Sebastian Bach - Wikipedia.csv\n"
     ]
    }
   ],
   "source": [
    "#TESTING 3\n",
    "ML = get_wiki_hyperlinks(link='https://en.wikipedia.org/wiki/Johann_Sebastian_Bach', directory='C:\\\\Users\\\\Gourab\\\\Desktop')"
   ]
  },
  {
   "cell_type": "markdown",
   "metadata": {
    "collapsed": true
   },
   "source": [
    "**Notes**\n",
    "\n",
    "**1. What BeautifulSoup does?**\n",
    "Like its Wonderland namesake, BeautifulSoup tries to make sense of the nonsensical; it helps format and organize the messy web by fixing bad HTML and presenting us with easily-traversible Python objects representing XML structures.\n",
    "\n"
   ]
  }
 ],
 "metadata": {
  "kernelspec": {
   "display_name": "Python 3",
   "language": "python",
   "name": "python3"
  },
  "language_info": {
   "codemirror_mode": {
    "name": "ipython",
    "version": 3
   },
   "file_extension": ".py",
   "mimetype": "text/x-python",
   "name": "python",
   "nbconvert_exporter": "python",
   "pygments_lexer": "ipython3",
   "version": "3.6.0"
  }
 },
 "nbformat": 4,
 "nbformat_minor": 2
}
